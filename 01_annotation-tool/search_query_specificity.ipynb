{
 "cells": [
  {
   "cell_type": "markdown",
   "id": "028b743b",
   "metadata": {},
   "source": [
    "# Demo: Classify Search Queries using GPT-4o-Mini\n",
    "\n",
    "We propose three complementary, IR-grounded definitions to distinguish between narrowly focused vs. exploratory search queries:\n",
    "\n",
    "* Search Intent Taxonomy [(Broder, 2002)](https://dl.acm.org/doi/abs/10.1145/792550.792552): navigational (i.e., aimed at reaching a website), transactional (i.e., intended to complete a task), informational (i.e., seeking to learn about a topic).\n",
    "\n",
    "* Named-Entity Presence [(White and Roth, 2009)](https://books.google.co.kr/books?hl=ko&lr=&id=MjRr9Z8lxXkC&oi=fnd&pg=PR3&dq=exploratory+search:+beyond+the+query-response&ots=GNjB-sZE4h&sig=lf1XNgrEENlBg4boZslqeYESiJ4&redir_esc=y#v=onepage&q=exploratory%20search%3A%20beyond%20the%20query-response&f=false): Examine whether a query includes named entities such as specific product or brand names.\n",
    "\n",
    "* Inverse Document Frequency [(Sparck Jones, 1972)](https://www.emerald.com/insight/content/doi/10.1108/eb026526/full/html): Assess whether the semantic content of a query appears in the top five Google search result snippets."
   ]
  },
  {
   "cell_type": "markdown",
   "id": "4e9a32cf",
   "metadata": {},
   "source": [
    "# Step 1: Install packages"
   ]
  },
  {
   "cell_type": "code",
   "execution_count": null,
   "id": "cf7850f7",
   "metadata": {},
   "outputs": [],
   "source": [
    "%pip install pandas requests openai python-dotenv"
   ]
  },
  {
   "cell_type": "code",
   "execution_count": 1,
   "id": "8a8bda98",
   "metadata": {},
   "outputs": [],
   "source": [
    "import requests\n",
    "import pandas as pd\n",
    "import json\n",
    "import re\n",
    "import os\n",
    "import openai\n",
    "\n",
    "from dotenv import load_dotenv"
   ]
  },
  {
   "cell_type": "markdown",
   "id": "870f74c1",
   "metadata": {},
   "source": [
    "# Step 2: Define your OpenAI API key"
   ]
  },
  {
   "cell_type": "code",
   "execution_count": 2,
   "id": "9423b2ba",
   "metadata": {},
   "outputs": [],
   "source": [
    "load_dotenv()\n",
    "OPENAI_API_KEY = os.getenv(\"OPENAI_API_KEY\")"
   ]
  },
  {
   "cell_type": "markdown",
   "id": "b4c14297",
   "metadata": {},
   "source": [
    "# Step 3: Define system prompts"
   ]
  },
  {
   "cell_type": "code",
   "execution_count": 3,
   "id": "79841987",
   "metadata": {},
   "outputs": [],
   "source": [
    "system_prompt_1 = \"\"\"\n",
    "You are an information-retrieval expert fluent in Korean. You will receive five items; each item has (1) an unspaced Korean search query and (2) an array of five title+snippet strings returned by Google.\n",
    "For each item, follow these steps exactly, then return one JSON object:\n",
    "1. For each snippet, think step by step in 1-2 sentences whether it semantically contains the query. Allow for minor typos and close paraphrases, but be cautious--only consider it a match if the snippet directly and clearly relates to the core meaning of the query.\n",
    "2. After your rationale, output one array \"matches\" of five Boolean values (true / false), one for snippet.\n",
    "\n",
    "Respond strictly in the following JSON array format (no extra text):\n",
    "[\n",
    "  {\n",
    "    \"query\": \"<original query>\",\n",
    "    \"matches\": \"[true, false, false, true, false]\"\n",
    "  },\n",
    "  ...\n",
    "]\n",
    "\"\"\"\n",
    "\n",
    "system_prompt_2 = \"\"\"\n",
    "You will be given a list of search queries submitted to a search engine. For each query, please classify the user's primary intent into one of the following three categories, choosing the most dominant intent if multiple apply:\n",
    "\n",
    "1. Navigational: The user wants to visit a specific website, brand page, or official service page.\n",
    "   (Example: \"Naver,\" \"Coupang customer service\")\n",
    "\n",
    "2. Transactional: The user intends to perform a specific action such as purchasing, downloading, booking, or watching something.\n",
    "   (Example: \"Buy used AirPods,\" \"Netflix subscription,\" \"vacuum cleaner head\")\n",
    "\n",
    "3. Informational: The user is looking for information or answers and the query does not fit into the above two categories.\n",
    "   (Example: \"Symptoms of depression,\" \"Weather in Paris,\" \"Supplements good for thyroid\")\n",
    "\n",
    "Additional instructions:\n",
    "- If the query contains typos or abbreviations, infer the user's intent based on the most common or likely interpretation in context.\n",
    "- Respond strictly in the following JSON array format (no extra text):\n",
    "\n",
    "[\n",
    "  {\n",
    "    \"query\": \"<original query>\",\n",
    "    \"reasoning\": \"<clear explanation of why this query falls into the chosen category, based on words, phrases, or user intent>\",\n",
    "    \"category\": \"Navigational / Transactional / Informational\"\n",
    "  },\n",
    "  ...\n",
    "]\n",
    "\"\"\"\n",
    "\n",
    "system_prompt_3 = \"\"\"\n",
    "You will be given a list of search queries entered into a search engine. For each query, extract **specific brand or product names** and **general product category names**.\n",
    "\n",
    "Instructions:\n",
    "\n",
    "1. Specific Brand or Product Name:\n",
    "- Extract brand names, product names, or model numbers if present.\n",
    "- Examples: 'Dior Lip Glow' → 'Dior', 'Apple Watch' → 'Apple Watch', 'Emtek GeForce GTX750' → 'Emtek GeForce GTX750'\n",
    "\n",
    "2. General Product Category Name:\n",
    "- Extract general product categories (only physical products; exclude services or software).\n",
    "- Examples: 'meat', 'sneakers', 'Bluetooth earphones'\n",
    "\n",
    "3. Compound Queries:\n",
    "- For brand + product name, extract as one combined name.\n",
    "- For brand + general product category, extract separately by type.\n",
    "- Examples: 'Dior Lip Glow' → 'Dior', 'Lip Glow'; 'Musinsa Sneakers' → 'Musinsa', 'Sneakers'\n",
    "\n",
    "4. Do not extract descriptions of product features or functions.\n",
    "- Examples: 'laptop for design' → 'laptop', 'hypoallergenic dog chew' → 'dog chew', 'bidet bolt tightening' → 'bidet', 'kettlebell 16kg' → 'kettlebell'\n",
    "\n",
    "5. N/A case:\n",
    "- If neither a specific brand/product name nor a general product category applies, return 'N/A'.\n",
    "- Example: 'pirate' → 'N/A'\n",
    "\n",
    "Respond strictly in the following JSON array format (no extra text):\n",
    "[\n",
    "  {\n",
    "    \"query\": \"<original query>\",\n",
    "    \"brand_or_product\": \"<extracted brand or product name or 'N/A'>\",\n",
    "    \"general_product_category\": \"<extracted general product category name or 'N/A'>\"\n",
    "  },\n",
    "  ...\n",
    "]\n",
    "\"\"\""
   ]
  },
  {
   "cell_type": "markdown",
   "id": "59970736",
   "metadata": {},
   "source": [
    "# Step 4: Functions"
   ]
  },
  {
   "cell_type": "code",
   "execution_count": 4,
   "id": "8681ee35",
   "metadata": {},
   "outputs": [],
   "source": [
    "# Parse response for system prompt 1\n",
    "def parse_response_1(response: str) -> list:\n",
    "    try:\n",
    "        results = json.loads(response)\n",
    "        return [item for item in results if 'query' in item and 'matches' in item]\n",
    "    except json.JSONDecodeError:\n",
    "        blocks = re.findall(r'\\{[^{}]+\\}', response)\n",
    "        parsed = []\n",
    "        for blk in blocks:\n",
    "            try:\n",
    "                obj = json.loads(blk)\n",
    "                if {'query','matches'} <= obj.keys():\n",
    "                    parsed.append(obj)\n",
    "            except json.JSONDecodeError:\n",
    "                continue\n",
    "        return parsed\n",
    "\n",
    "# Parse response for system prompt 2\n",
    "def parse_response_2(response: str) -> list:\n",
    "    try:\n",
    "        results = json.loads(response)\n",
    "        return [item for item in results if 'query' in item and 'reasoning' in item and 'category' in item]\n",
    "    except json.JSONDecodeError:\n",
    "        blocks = re.findall(r'\\{[^{}]+\\}', response)\n",
    "        parsed = []\n",
    "        for blk in blocks:\n",
    "            try:\n",
    "                obj = json.loads(blk)\n",
    "                if {'query','reasoning','category'} <= obj.keys():\n",
    "                    parsed.append(obj)\n",
    "            except json.JSONDecodeError:\n",
    "                continue\n",
    "        return parsed\n",
    "\n",
    "# Parse response for system prompt 3\n",
    "def parse_response_3(response: str) -> list:\n",
    "    required_keys = {'query', 'brand_or_product', 'general_product_category'}\n",
    "    try:\n",
    "        results = json.loads(response)\n",
    "        # Return only items that contain all required keys\n",
    "        return [item for item in results if required_keys <= item.keys()]\n",
    "    except json.JSONDecodeError:\n",
    "        # If full JSON parse fails, try to extract JSON objects via regex and parse individually\n",
    "        blocks = re.findall(r'\\{[^{}]+\\}', response)\n",
    "        parsed = []\n",
    "        for blk in blocks:\n",
    "            try:\n",
    "                obj = json.loads(blk)\n",
    "                if required_keys <= obj.keys():\n",
    "                    parsed.append(obj)\n",
    "            except json.JSONDecodeError:\n",
    "                continue\n",
    "        return parsed\n",
    "\n",
    "def call_gpt(queries, system_prompt, model=\"gpt-4o-mini\", max_tokens=1000):\n",
    "    response = openai.chat.completions.create(\n",
    "        model=model,\n",
    "        messages=[\n",
    "            {\"role\": \"system\", \"content\": system_prompt},\n",
    "            {\"role\": \"user\", \"content\": queries}\n",
    "        ],\n",
    "        temperature=0,\n",
    "        max_tokens=max_tokens\n",
    "    )\n",
    "    return response.choices[0].message.content"
   ]
  },
  {
   "cell_type": "markdown",
   "id": "d5faad0a",
   "metadata": {},
   "source": [
    "# Step 5: Workflow"
   ]
  },
  {
   "cell_type": "code",
   "execution_count": 5,
   "id": "02e31701",
   "metadata": {},
   "outputs": [],
   "source": [
    "queries = [\n",
    "    \"amazon apple watch se discount\",\n",
    "    \"dyson vacuum cleaner noise level\",\n",
    "    \"chipotle official menu\",\n",
    "    \"nike dunk low stockx\",\n",
    "    \"samsung refrigerator installation guide\",\n",
    "]\n",
    "queries_json = json.dumps(queries)"
   ]
  },
  {
   "cell_type": "code",
   "execution_count": 7,
   "id": "9743428d",
   "metadata": {},
   "outputs": [
    {
     "name": "stdout",
     "output_type": "stream",
     "text": [
      "\n",
      "--------------------------------\n",
      "Search intent: informational / navigational / transactional\n",
      "--------------------------------\n",
      "\n",
      "[\n",
      "  {\n",
      "    \"query\": \"amazon apple watch se discount\",\n",
      "    \"reasoning\": \"The user is looking for a discount on a specific product, indicating an intention to purchase or find a deal.\",\n",
      "    \"category\": \"Transactional\"\n",
      "  },\n",
      "  {\n",
      "    \"query\": \"dyson vacuum cleaner noise level\",\n",
      "    \"reasoning\": \"The user is seeking information about the noise level of a specific product, which does not indicate a desire to buy or visit a website.\",\n",
      "    \"category\": \"Informational\"\n",
      "  },\n",
      "  {\n",
      "    \"query\": \"chipotle official menu\",\n",
      "    \"reasoning\": \"The user is looking for the official menu of Chipotle, which suggests they want to navigate to a specific brand's information.\",\n",
      "    \"category\": \"Navigational\"\n",
      "  },\n",
      "  {\n",
      "    \"query\": \"nike dunk low stockx\",\n",
      "    \"reasoning\": \"The user is likely looking to purchase or check the availability of a specific sneaker on StockX, indicating a transactional intent.\",\n",
      "    \"category\": \"Transactional\"\n",
      "  },\n",
      "  {\n",
      "    \"query\": \"samsung refrigerator installation guide\",\n",
      "    \"reasoning\": \"The user is looking for a guide on how to install a Samsung refrigerator, which indicates a need for information.\",\n",
      "    \"category\": \"Informational\"\n",
      "  }\n",
      "]\n"
     ]
    }
   ],
   "source": [
    "response2 = call_gpt(queries_json, system_prompt_2, model=\"gpt-4o-mini\", max_tokens=1000)\n",
    "print(\"\\n--------------------------------\")\n",
    "print(\"Search intent: informational / navigational / transactional\")\n",
    "print(\"--------------------------------\\n\")\n",
    "print(response2)"
   ]
  },
  {
   "cell_type": "code",
   "execution_count": 9,
   "id": "6daf8f33",
   "metadata": {},
   "outputs": [
    {
     "name": "stdout",
     "output_type": "stream",
     "text": [
      "\n",
      "--------------------------------\n",
      "Extract brand/product names and categories\n",
      "--------------------------------\n",
      "\n",
      "[\n",
      "  {\n",
      "    \"query\": \"amazon apple watch se discount\",\n",
      "    \"brand_or_product\": \"Apple Watch SE\",\n",
      "    \"general_product_category\": \"smartwatch\"\n",
      "  },\n",
      "  {\n",
      "    \"query\": \"dyson vacuum cleaner noise level\",\n",
      "    \"brand_or_product\": \"Dyson\",\n",
      "    \"general_product_category\": \"vacuum cleaner\"\n",
      "  },\n",
      "  {\n",
      "    \"query\": \"chipotle official menu\",\n",
      "    \"brand_or_product\": \"N/A\",\n",
      "    \"general_product_category\": \"N/A\"\n",
      "  },\n",
      "  {\n",
      "    \"query\": \"nike dunk low stockx\",\n",
      "    \"brand_or_product\": \"Nike Dunk Low\",\n",
      "    \"general_product_category\": \"sneakers\"\n",
      "  },\n",
      "  {\n",
      "    \"query\": \"samsung refrigerator installation guide\",\n",
      "    \"brand_or_product\": \"Samsung\",\n",
      "    \"general_product_category\": \"refrigerator\"\n",
      "  }\n",
      "]\n"
     ]
    }
   ],
   "source": [
    "response3 = call_gpt(queries_json, system_prompt_3, model=\"gpt-4o-mini\", max_tokens=1000)\n",
    "print(\"\\n--------------------------------\")\n",
    "print(\"Extract brand/product names and categories\")\n",
    "print(\"--------------------------------\\n\")\n",
    "print(response3)"
   ]
  },
  {
   "cell_type": "markdown",
   "id": "813e0b37",
   "metadata": {},
   "source": [
    "# Step 6: Final dataset"
   ]
  },
  {
   "cell_type": "code",
   "execution_count": 11,
   "id": "0a0f7968",
   "metadata": {},
   "outputs": [
    {
     "name": "stdout",
     "output_type": "stream",
     "text": [
      "                                     query       category brand_or_product  \\\n",
      "0           amazon apple watch se discount  Transactional   Apple Watch SE   \n",
      "1         dyson vacuum cleaner noise level  Informational            Dyson   \n",
      "2                   chipotle official menu   Navigational              N/A   \n",
      "3                     nike dunk low stockx  Transactional    Nike Dunk Low   \n",
      "4  samsung refrigerator installation guide  Informational          Samsung   \n",
      "\n",
      "  general_product_category  \n",
      "0               smartwatch  \n",
      "1           vacuum cleaner  \n",
      "2                      N/A  \n",
      "3                 sneakers  \n",
      "4             refrigerator  \n"
     ]
    }
   ],
   "source": [
    "data2 = parse_response_2(response2)\n",
    "df2 = pd.DataFrame(data2)\n",
    "df2 = df2[['query','category']]\n",
    "data3 = parse_response_3(response3)\n",
    "df3 = pd.DataFrame(data3)\n",
    "\n",
    "df = pd.merge(df2,df3,on='query')\n",
    "print(df)"
   ]
  }
 ],
 "metadata": {
  "kernelspec": {
   "display_name": "Python 3",
   "language": "python",
   "name": "python3"
  },
  "language_info": {
   "codemirror_mode": {
    "name": "ipython",
    "version": 3
   },
   "file_extension": ".py",
   "mimetype": "text/x-python",
   "name": "python",
   "nbconvert_exporter": "python",
   "pygments_lexer": "ipython3",
   "version": "3.11.12"
  }
 },
 "nbformat": 4,
 "nbformat_minor": 5
}
